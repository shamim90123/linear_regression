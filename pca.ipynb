{
 "cells": [
  {
   "cell_type": "code",
   "execution_count": 1,
   "id": "7d379bf1-f5a8-4869-8afb-4e42145ed46d",
   "metadata": {},
   "outputs": [
    {
     "data": {
      "text/plain": [
       "(   Principal Component 1  Principal Component 2\n",
       " 0              -1.322940              -0.416487\n",
       " 1               0.101533               0.442822\n",
       " 2               1.628294               1.482333\n",
       " 3               1.109297              -1.082188\n",
       " 4               2.533770              -0.222879\n",
       " 5              -1.519958               0.886623\n",
       " 6              -3.046719              -0.152888\n",
       " 7               0.211373               0.141678\n",
       " 8               0.856947              -0.701248\n",
       " 9              -0.551598              -0.377766,\n",
       " array([0.82461367, 0.17505579]))"
      ]
     },
     "execution_count": 1,
     "metadata": {},
     "output_type": "execute_result"
    }
   ],
   "source": [
    "import numpy as np\n",
    "import pandas as pd\n",
    "from sklearn.decomposition import PCA\n",
    "from sklearn.preprocessing import StandardScaler\n",
    "\n",
    "\n",
    "# Sample data: Height, Weight, Age for 10 individuals\n",
    "data = {\n",
    "    'Height': [165, 170, 175, 180, 185, 160, 155, 172, 178, 169],\n",
    "    'Weight': [70, 75, 80, 85, 90, 65, 60, 76, 82, 74],\n",
    "    'Age': [25, 32, 40, 28, 35, 30, 22, 31, 29, 27]\n",
    "}\n",
    "\n",
    "# Convert the data to a DataFrame\n",
    "df = pd.DataFrame(data)\n",
    "\n",
    "# Standardize the data\n",
    "scaler = StandardScaler()\n",
    "scaled_data = scaler.fit_transform(df)\n",
    "\n",
    "\n",
    "# Apply PCA\n",
    "pca = PCA(n_components=2)  # Reduce to 2 principal components\n",
    "principal_components = pca.fit_transform(scaled_data)\n",
    "\n",
    "# Create a DataFrame with the results\n",
    "pca_df = pd.DataFrame(data=principal_components, columns=['Principal Component 1', 'Principal Component 2'])\n",
    "\n",
    "# Show the explained variance ratio\n",
    "explained_variance_ratio = pca.explained_variance_ratio_\n",
    "pca_df, explained_variance_ratio\n"
   ]
  },
  {
   "cell_type": "code",
   "execution_count": null,
   "id": "bad6dad3-d6d5-4371-bdc3-d319f8793ab5",
   "metadata": {},
   "outputs": [],
   "source": []
  }
 ],
 "metadata": {
  "kernelspec": {
   "display_name": "Python 3 (ipykernel)",
   "language": "python",
   "name": "python3"
  },
  "language_info": {
   "codemirror_mode": {
    "name": "ipython",
    "version": 3
   },
   "file_extension": ".py",
   "mimetype": "text/x-python",
   "name": "python",
   "nbconvert_exporter": "python",
   "pygments_lexer": "ipython3",
   "version": "3.12.1"
  }
 },
 "nbformat": 4,
 "nbformat_minor": 5
}
